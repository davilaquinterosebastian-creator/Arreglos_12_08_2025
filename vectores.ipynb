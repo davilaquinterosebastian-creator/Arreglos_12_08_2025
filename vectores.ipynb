{
  "nbformat": 4,
  "nbformat_minor": 0,
  "metadata": {
    "colab": {
      "provenance": [],
      "authorship_tag": "ABX9TyNUgSUaor0vkrQumzvnUiN6",
      "include_colab_link": true
    },
    "kernelspec": {
      "name": "python3",
      "display_name": "Python 3"
    },
    "language_info": {
      "name": "python"
    }
  },
  "cells": [
    {
      "cell_type": "markdown",
      "metadata": {
        "id": "view-in-github",
        "colab_type": "text"
      },
      "source": [
        "<a href=\"https://colab.research.google.com/github/davilaquinterosebastian-creator/Arreglos_12_08_2025/blob/main/vectores.ipynb\" target=\"_parent\"><img src=\"https://colab.research.google.com/assets/colab-badge.svg\" alt=\"Open In Colab\"/></a>"
      ]
    },
    {
      "cell_type": "code",
      "execution_count": 1,
      "metadata": {
        "colab": {
          "base_uri": "https://localhost:8080/"
        },
        "id": "uha758XgyAZQ",
        "outputId": "140ad67a-d24e-45ff-80d1-b8228d3d43e4"
      },
      "outputs": [
        {
          "output_type": "stream",
          "name": "stdout",
          "text": [
            "[1 2 3 4 5]\n",
            "3\n",
            "[0. 0. 0. 0. 0.]\n",
            "[1. 1. 1. 1. 1.]\n",
            "rango: [1 2 3 4 5 6 7 8 9]\n",
            "linspace: [ 1.    3.25  5.5   7.75 10.  ]\n",
            "random: [0.6849924  0.20027932 0.21360838 0.46196869 0.96970765 0.47135544\n",
            " 0.25709755 0.91073803 0.47410784 0.05400539]\n",
            "randint: [48 45 99 27 54 83 64 34 31 21]\n"
          ]
        }
      ],
      "source": [
        "import numpy as np\n",
        "vector = np.array([1, 2, 3, 4, 5])\n",
        "print(vector)\n",
        "print(vector[2])\n",
        "\"\"\"\n",
        "los vectores no son como las append() para, agregar elementos o tienen un metodo pop()\n",
        "para eliminar elementos, pero si tienen metodo reshape() para cambiar su forma.\n",
        "adicionalmente, despues creado no se puede cambiar el tamaño del vector\n",
        "\"\"\"\n",
        "vector1 = np.zeros(5)  # crea un vector de ceros de tamaño 5\n",
        "print(vector1)\n",
        "\n",
        "vector2 = np.ones(5)   # crea un vector de unos de tamaño 5\n",
        "print(vector2)\n",
        "\n",
        "vector3 = np.arange(1,10)  # crea un vector con valores aleatorios entre 1 y 5\n",
        "print(\"rango:\", vector3)\n",
        "\n",
        "vector4 = np.linspace(1, 10, 5)  # crea un vector con 5 valores igualmente espaciados entre 1 y 10\n",
        "print(\"linspace:\", vector4)\n",
        "\n",
        "vector5 = np.random.rand(10) # crea un vector con 10 valores aleatorios entre 0 y 1\n",
        "print(\"random:\", vector5)\n",
        "\n",
        "vector6 = np.random.randint(1, 100, 10) # crea un vector con 10 valores enteros aleatorios entre 1 y 100\n",
        "print(\"randint:\", vector6)\n"
      ]
    },
    {
      "cell_type": "markdown",
      "source": [
        "los vectores son reservas de memoria para almacenar informacion, solo puede ser de un tipo,\n",
        "si es numerico tiene que ser numerico, si es texto tiene que ser texto, esto aplica para las matrices.\n",
        "Los arreglos son identificadores estaticos, esto significa que es otra forma de definir variables y\n",
        "constantes\n"
      ],
      "metadata": {
        "id": "xeWDGcUtyhPQ"
      }
    }
  ]
}