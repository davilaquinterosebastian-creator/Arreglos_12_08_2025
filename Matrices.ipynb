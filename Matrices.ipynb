{
  "nbformat": 4,
  "nbformat_minor": 0,
  "metadata": {
    "colab": {
      "provenance": [],
      "authorship_tag": "ABX9TyPCKyBhIA+MIRHt6fORJ59k",
      "include_colab_link": true
    },
    "kernelspec": {
      "name": "python3",
      "display_name": "Python 3"
    },
    "language_info": {
      "name": "python"
    }
  },
  "cells": [
    {
      "cell_type": "markdown",
      "metadata": {
        "id": "view-in-github",
        "colab_type": "text"
      },
      "source": [
        "<a href=\"https://colab.research.google.com/github/davilaquinterosebastian-creator/Arreglos_12_08_2025/blob/main/Matrices.ipynb\" target=\"_parent\"><img src=\"https://colab.research.google.com/assets/colab-badge.svg\" alt=\"Open In Colab\"/></a>"
      ]
    },
    {
      "cell_type": "code",
      "source": [
        "import numpy as np\n",
        "\n",
        "#matrices\n",
        "#crear una matriz de 3x3 con valores aleatorios\n",
        "matriz = np.random.randint(1, 100, (3, 3))#creamos una matriz de aleatorios , el rango es de 1 a 100 de tamaño\n",
        "print(matriz)\n",
        "\n",
        "matriz2 = np. random.Generator(np.random.PCG64()).integers(0, 100, (3, 3)) #creamos una matriz de aleatorios con un generador de numeros aleatorios\n",
        "print(\"\\033[31mMatriz aleatoria 2:\\033[0m\")\n",
        "print(matriz2)  #imprime la segunda matriz debajo\n",
        "\n",
        "#crear matriz identidad de 3x3\n",
        "matriz_identidad = np.eye(3) #creamos una matriz identidad de 3x3\n",
        "print(\"\\033[32mMatriz identidad:\\033[0m\") #imprime eñ texto\n",
        "print(matriz_identidad) #imprime la matriz identidad\n",
        "\n",
        "#matriz traspuesta (transpuesta = pasar de columna a fila)\n",
        "matriz_transpuesta = matriz.T#transpuesta de una matriz identidad en color\n",
        "print(\"\\033[33mMatriz traspuesta:\\033[0m\") #imprime el texto]\n",
        "print(matriz_transpuesta) #imprime la matriz traspuesta\n",
        "\n",
        "#Llenar matriz 2x2 de ceros\n",
        "matriz_zeros = np.zeros((2, 2)) #creamos una matriz de ceros de tamaño 2x2\n",
        "for incrementador in range(2):\n",
        "    for incrementador in range(2):\n",
        "        matriz_zeros[incrementador][incrementador] = 1\n",
        "        print(\"\\033[34mMatriz de ceros:\\033[0m\") #imprime la matriz de ceros en color morado\n",
        "print(\"_________________________________________________\")\n",
        "for fila in range(2):\n",
        "    for col in range(2):\n",
        "        matriz_zeros[fila][col] = (np.random.randint(1, 10)) + 1\n",
        "print(\"\\033[34mMatriz de ceros: \\033[o33[0m\") #imprime el texto\n",
        "print(matriz_zeros) #imprime la matriz de ceros\n"
      ],
      "metadata": {
        "id": "HJkyH9SL0QiE"
      },
      "execution_count": null,
      "outputs": []
    }
  ]
}