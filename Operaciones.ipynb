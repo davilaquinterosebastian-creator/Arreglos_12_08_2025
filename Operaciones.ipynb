{
  "nbformat": 4,
  "nbformat_minor": 0,
  "metadata": {
    "colab": {
      "provenance": [],
      "authorship_tag": "ABX9TyMNUQWo+WMldRa9JZvM/lbz",
      "include_colab_link": true
    },
    "kernelspec": {
      "name": "python3",
      "display_name": "Python 3"
    },
    "language_info": {
      "name": "python"
    }
  },
  "cells": [
    {
      "cell_type": "markdown",
      "metadata": {
        "id": "view-in-github",
        "colab_type": "text"
      },
      "source": [
        "<a href=\"https://colab.research.google.com/github/davilaquinterosebastian-creator/Arreglos_12_08_2025/blob/main/Operaciones.ipynb\" target=\"_parent\"><img src=\"https://colab.research.google.com/assets/colab-badge.svg\" alt=\"Open In Colab\"/></a>"
      ]
    },
    {
      "cell_type": "code",
      "execution_count": 2,
      "metadata": {
        "colab": {
          "base_uri": "https://localhost:8080/"
        },
        "id": "uha758XgyAZQ",
        "outputId": "273439c9-ba7a-4606-f969-ed116d504f23"
      },
      "outputs": [
        {
          "output_type": "stream",
          "name": "stdout",
          "text": [
            "\u001b[producto de vectores\u001b[0m [ 1  4  9 16 25]\n",
            "\u001b[división de vectores\u001b[0m [1. 1. 1. 1. 1.]\n",
            "\u001b[suma de vectores\u001b[0m [ 2  4  6  8 10]\n",
            "\u001b[resta de vectores\u001b[0m [0 0 0 0 0]\n",
            "\u001b[35mPotencia de vectores\u001b[0m [ 1  4  9 16 25]\n"
          ]
        }
      ],
      "source": [
        "import numpy as nop\n",
        "\n",
        "vector1 = np.array([1, 2, 3, 4, 5])\n",
        "vector2 = np.array([1, 2, 3, 4, 5])\n",
        "producto = vector1 * vector2\n",
        "print(\"\\033[producto de vectores\\033[0m\", producto)\n",
        "\n",
        "division = vector1 / vector2\n",
        "print(\"\\033[división de vectores\\033[0m\", division)\n",
        "\n",
        "suma = vector1 + vector2\n",
        "print(\"\\033[suma de vectores\\033[0m\", suma)\n",
        "\n",
        "resta = vector1 - vector2\n",
        "print(\"\\033[resta de vectores\\033[0m\", resta)\n",
        "\n",
        "potencia = vector1 ** 2\n",
        "print(\"\\033[35mPotencia de vectores\\033[0m\", potencia)\n"
      ]
    },
    {
      "cell_type": "code",
      "source": [],
      "metadata": {
        "id": "HJkyH9SL0QiE"
      },
      "execution_count": null,
      "outputs": []
    }
  ]
}